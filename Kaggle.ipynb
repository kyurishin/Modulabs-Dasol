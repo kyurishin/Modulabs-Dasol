{
 "cells": [
  {
   "cell_type": "markdown",
   "metadata": {},
   "source": [
    "# [Kaggle](https://www.kaggle.com/) : 데이터사이언스 경진대회 플랫폼\n",
    "데이터 사이언스 Competition 플랫폼 중 가장 유명한 플랫폼.\n",
    "* 2010년 예측모델 및 분석을 위한 플랫폼 서비스로 출발하여 2017년 구글에 인수\n",
    "* 2019년 기준 13,000여개의 데이터 공개\n",
    "\n",
    "### 주어진 과제에 예측모델을 만들고 학습 결과를 업로드 하면 정확도가 평가되는 프로세스 입니다.\n",
    "* '챌린지'의 경우 이렇게 평가받은 점수로 등수에 따라 금메달/은메달/동메달을 획득할 수 있습니다. (대회 규모에 따라 메달 개수는 다릅니다.) 메달 획득을 통해 등급을 업그레이드 할 수 있습니다.\n",
    "\n",
    "<img src=\"https://user-images.githubusercontent.com/53554014/96592668-96d11500-1323-11eb-84d3-472a8aec451a.png\" width=80% alt=\"캐글 등급\"></img>\n",
    "\n",
    "### 데이콘(Daicon) : 국내 최대의 데이터 사이언스 경진대회 플랫폼\n",
    "### 기타 한국형 캐글\n",
    "* 캐글코리아\n",
    "* AI.Factory\n",
    "\n",
    "위 플랫폼들에 국내의 정부기관과 다양한 기업에 문제를 올립니다. 가장 좋은 것은 한글!!! 이라는것!!!\n",
    "\n",
    "## 캐글 내 활동 분야\n",
    "* **Competition** : 대회 순위에 따른 메달 획득\n",
    "    * 메달 뿐 아니라 상금도 줍니다!!\n",
    "* Notebook : 좋은 설명, 좋은 코드에 따른 메달 획득\n",
    "    * 코드를 공개하고, 사람들이 좋아요를 많이 눌러주면 메달 획득!\n",
    "* Dataset : 좋은 데이터셋 공유\n",
    "    * 사람들이 공개한 public data를 가지고 다양한 도전을 해 볼 수 있겠지요.\n",
    "* Discussion : 댓글 및 토론\n",
    "\n",
    "## Competition : 대회에서 좋은 결과를 얻는 것이 목표!\n",
    "![image](https://user-images.githubusercontent.com/53554014/96593049-0b0bb880-1324-11eb-8c69-c72f872117df.png)\n",
    "* **`Active` : 현재 진행 중인 대회**\n",
    "* `InClass` : 교육용 대회(대학교 수업 등에서 사용!)\n",
    "\n",
    "### Active competitions\n",
    "<img src=\"https://user-images.githubusercontent.com/53554014/96594221-583c5a00-1325-11eb-9cdb-3e922c6f8c94.png\" width=100%></img>\n",
    "* **Overview**\n",
    "    * `Description` : 대회 정보, 수상 기준 등 대회 설명\n",
    "    * `Evaluation` : 결과 측정 방법\n",
    "    * `Timeline` : 대회 일정\n",
    "    * `Prize` : 상금 정보\n",
    "    * `Management & Sponsor` : 주최\n",
    "* **Data**\n",
    "    * trian.csv, test.csv, submission_example.csv 데이터 파일 예시\n",
    "    * 데이터 세부 설명\n",
    "    * 데이터 visualization\n",
    "    * 데이터 다운로드 가능(`Download All` 버튼)\n",
    "* **Notebook**\n",
    "    * 사람들이 공개해둔 코드를 볼 수 있습니다.\n",
    "    * Notebook을 public으로 제출해서 좋아요를 많이 받으면 Notebook 메달도 획득 가능!\n",
    "    * 깔끔한 코드, 깔쌈한 코드 설명, 예쁜 데이터 분석 및 시각화\n",
    "    * GPU 사용 가능, 주 40시간 제한\n",
    "* **Discussion**\n",
    "    * 대회 관련 토론방\n",
    "* **Leaderboard**\n",
    "    * 내가 제출한 코드의 점수 및 등수 확인 가능.\n",
    "    * 코드를 오픈한 경우 리더보드의 Notebook칸에 코드가 뜹니다. 클릭하면 바로 연결!\n",
    "    * <img src=\"https://user-images.githubusercontent.com/53554014/96598033-6be9bf80-1329-11eb-9eb0-fb31d70c99c0.png\" width=60% alt=\"Learderboard\"></img>\n",
    "    * Learderboard에는 **baseline**이 있습니다. 베이스라인은 대회에서 제시한 기본값으로, 최소 이 정확도 이상의 값은 나와야 한다는 뜻입니다. baseline을 넘기기 위해서는 데이터 전처리가 중요하겠죠!"
   ]
  },
  {
   "cell_type": "markdown",
   "metadata": {},
   "source": [
    "#### Learderboard : 대회에서 획득한 점수로 sorting됨.\n",
    "![image](https://user-images.githubusercontent.com/53554014/96598621-0518d600-132a-11eb-8591-19739816a7ed.png)\n",
    "\n",
    "* 초록색 : 상금 획득 가능 구간\n",
    "* Gold, Silver, Bronze : 각 메달 획득 가능 구간"
   ]
  },
  {
   "cell_type": "markdown",
   "metadata": {},
   "source": [
    "#### Notebook : Jupyter Notebook의 캐글 판. \n",
    "주의사항 : 주 40시간만 GPU 사용 가능. 40시간 이상 사용을 했을 경우 구글 클라우드 결제를 하시거나, 계정을 하나 더 파야 합니다!\n",
    "<img src=\"./Study/assets/kaggle-gpu.png\" width=80% alt=\"gpu\"></img>\n",
    "\n",
    "* GPU를 얼마나 사용했는지는 아래와 같이 `Settings` 탭에서 확인 가능\n",
    "<img src=\"https://user-images.githubusercontent.com/53554014/96601152-b3257f80-132c-11eb-845b-673ce6462989.png\" width=50%></img>\n"
   ]
  },
  {
   "cell_type": "markdown",
   "metadata": {},
   "source": [
    "## 대회 참가하기\n",
    "1. `Join Competition`\n",
    "\n",
    "2.1. 로컬로 대회 참가하는 경우 : `Data`탭에서 `Download All` 버튼 클릭\n",
    "<img src=\"./Study/assets/kaggle-data.png\" width=80%></img>\n",
    "\n",
    "2.2. 캐글 노트북을 사용하는 경우 : `Notebook`탭에서 `New Notebook` 버튼 클릭\n",
    "<img src=\"./Study/assets/kaggle-data2.png\" width=80%></img>\n",
    "\n",
    "3. 어쩌구저쩌구 꿍기꿍기\n",
    "\n",
    "4. 분석 및 모델 생성 후 정답 템플릿에 맞춰 정답을 적어 파일 제출(아래는 정답 예시)\n",
    "<img src=\"https://user-images.githubusercontent.com/53554014/96600770-427e6300-132c-11eb-938d-851b44e8ca0b.png\" width=90% alt=\"submit_sample\"></img>"
   ]
  },
  {
   "cell_type": "markdown",
   "metadata": {},
   "source": []
  },
  {
   "cell_type": "code",
   "execution_count": null,
   "metadata": {},
   "outputs": [],
   "source": []
  }
 ],
 "metadata": {
  "kernelspec": {
   "display_name": "Python 3",
   "language": "python",
   "name": "python3"
  },
  "language_info": {
   "codemirror_mode": {
    "name": "ipython",
    "version": 3
   },
   "file_extension": ".py",
   "mimetype": "text/x-python",
   "name": "python",
   "nbconvert_exporter": "python",
   "pygments_lexer": "ipython3",
   "version": "3.8.5"
  }
 },
 "nbformat": 4,
 "nbformat_minor": 4
}
