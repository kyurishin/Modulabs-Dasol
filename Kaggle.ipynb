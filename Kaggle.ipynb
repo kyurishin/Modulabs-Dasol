{
 "cells": [
  {
   "cell_type": "markdown",
   "metadata": {},
   "source": [
    "# Kaggle : 데이터사이언스 경진대회 플랫폼\n",
    "데이터 사이언스 Competition 플랫폼 중 가장 유명한 플랫폼.\n",
    "\n",
    "* 2010년 예측모델 및 분석을 위한 플랫폼 서비스로 출발하여 2017년 구글에 인수\n",
    "* 2019년 기준 13,000여개의 데이터 공개\n",
    "* 주어진 과제에 예측모델을 만들고 학습 결과를 업로드 하면 정확도가 평가되는 프로세스 입니다.\n",
    "* '챌린지'의 경우 이렇게 평가받은 점수로 등수에 따라 금메달/은메달/동메달을 획득할 수 있습니다. 대회 규모에 따라 메달 개수는 다릅니다.\n",
    "\n",
    "### 데이콘(Daicon) : 국내 최대의 데이터 사이언스 경진대회 플랫폼\n",
    "### 기타 한국형 캐글\n",
    "* 캐글코리아\n",
    "* AI.Factory\n",
    "위 플랫폼들에 국내의 정부기관과 다양한 기업에 문제를 올립니다.\n",
    "\n",
    "### 캐글 내 활동 분야\n",
    "* **Competition** : 대회 순위에 따른 메달 획득\n",
    "    * 메달 뿐 아니라 상금도 줍니다!!\n",
    "* Notebook : 좋은 설명, 좋은 코드에 따른 메달 획득\n",
    "    * 코드를 공개하고, 사람들이 좋아요를 많이 눌러주면 메달 획득!\n",
    "* Dataset : 좋은 데이터셋 공유\n",
    "    * 사람들이 공개한 public data를 가지고 다양한 도전을 해 볼 수 있겠지요.\n",
    "* Discussion : 댓글 및 토론\n",
    "\n",
    "### 캐글 등급\n",
    "* Novice\n",
    "* Contributor\n",
    "* Expert\n",
    "* Master\n",
    "* Grandmaster"
   ]
  },
  {
   "cell_type": "markdown",
   "metadata": {},
   "source": [
    "## Competition\n",
    "대회에서 좋은 결과를 얻는 것을 목표로 함.\n",
    "\n",
    "* Competition 참여 숫자에는 제한이 없습니다! \n",
    "    * Active : 현재 진행 중인 대회\n",
    "    * InClass : 교육용 대회(대학교 등에서 수업에 사용하는 대회)\n",
    "* Leaderboard : 대회에서 획득한 점수로 sorting됨.\n",
    "    * 초록색 : 상금 획득 가능 구간\n",
    "    * Gold, Silver, Bronze : 각 메달 획득 가능 구간"
   ]
  },
  {
   "cell_type": "markdown",
   "metadata": {},
   "source": [
    "## Notebook\n",
    "Jupyter Notebook의 캐글 판. 좋아요 버튼에 따라 메달 획득 가능. **GPU 사용 가능!!!**\n",
    "* 데이터 분석 및 시각화\n",
    "* 깔끔한 코드, 깔쌈한 코드 설명\n",
    "> 주의사항 : 주 40시간만 GPU 사용 가능. 40시간 이상 사용을 했을 경우 구글 클라우드 결제를 하시거나, 계정을 하나 더 파야 합니다!"
   ]
  },
  {
   "cell_type": "markdown",
   "metadata": {},
   "source": [
    "## 참가 방법\n",
    "1. `Join Competition`\n",
    "2. 라이센스 동의(I accept and follow(?))\n",
    "3. `Data` 탭에서는 train data와 test data에 대한 시각화 결과를 볼 수 있다. 학습/테스트 데이터와 정답 제출 템플릿 파일이 있음.\n",
    "> 데이터 분석 후 정답 제출 템플릿에 정답을 적어 파일을 리더보드에 제출."
   ]
  },
  {
   "cell_type": "code",
   "execution_count": null,
   "metadata": {},
   "outputs": [],
   "source": []
  }
 ],
 "metadata": {
  "kernelspec": {
   "display_name": "Python 3",
   "language": "python",
   "name": "python3"
  },
  "language_info": {
   "codemirror_mode": {
    "name": "ipython",
    "version": 3
   },
   "file_extension": ".py",
   "mimetype": "text/x-python",
   "name": "python",
   "nbconvert_exporter": "python",
   "pygments_lexer": "ipython3",
   "version": "3.7.6"
  }
 },
 "nbformat": 4,
 "nbformat_minor": 4
}
