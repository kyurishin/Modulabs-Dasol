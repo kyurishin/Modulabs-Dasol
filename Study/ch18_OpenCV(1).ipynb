{
 "cells": [
  {
   "cell_type": "code",
   "execution_count": 2,
   "metadata": {},
   "outputs": [],
   "source": [
    "import cv2\n",
    "import numpy as np"
   ]
  },
  {
   "cell_type": "code",
   "execution_count": 3,
   "metadata": {},
   "outputs": [],
   "source": [
    "#cap  = cv2.VideoCapture(0)"
   ]
  },
  {
   "cell_type": "markdown",
   "metadata": {},
   "source": [
    "* VideoCapture : 영상 캡쳐를 위해 카메라를 사용\n",
    "* VideoCapture(0) : 기본 카메라(노트북의 경우 웹캠) 사용"
   ]
  },
  {
   "cell_type": "code",
   "execution_count": 4,
   "metadata": {},
   "outputs": [],
   "source": [
    "cap = cv2.VideoCapture(0)\n",
    "\n",
    "while True:\n",
    "    _, frame = cap.read() # 프레임 읽기\n",
    "    hsv = cv2.cvtColor(frame, cv2.COLOR_BGR2HSV) #RGB 이미지 색공간을 HSV로 변환\n",
    "    gray = cv2.cvtColor(frame, cv2.COLOR_BGR2GRAY) # RGB 이미지 색공간을 Gray이미지로 변환\n",
    "    \n",
    "    # Threshold 설정\n",
    "    lower_blue = np.array([110,50,50])\n",
    "    upper_blue = np.array([130,255,255])\n",
    "    mask = cv2.inRange(hsv, lower_blue, upper_blue)\n",
    "    \n",
    "    # 이미지와 mask AND 연산\n",
    "    res = cv2.bitwise_and(frame, frame, mask=mask)\n",
    "    \n",
    "    # 이미지 보여주기\n",
    "    cv2.imshow('original frame', frame)\n",
    "    cv2.imshow('mask', mask)\n",
    "    cv2.imshow('result', res)\n",
    "    \n",
    "    # 이미지 끄기(?)\n",
    "    k = cv2.waitKey(5) & 0xFF # 5초간 키 입력을 기다림 & 넘락 해제\n",
    "    if k == 27: # ESC키(27)이 입력으로 들어오면 종료\n",
    "        break\n",
    "        \n",
    "            \n",
    "# 프로세스 및 메모리 해제\n",
    "cv2.destroyAllWindows()\n",
    "cap.release()"
   ]
  },
  {
   "cell_type": "code",
   "execution_count": null,
   "metadata": {},
   "outputs": [],
   "source": []
  }
 ],
 "metadata": {
  "kernelspec": {
   "display_name": "Python 3",
   "language": "python",
   "name": "python3"
  },
  "language_info": {
   "codemirror_mode": {
    "name": "ipython",
    "version": 3
   },
   "file_extension": ".py",
   "mimetype": "text/x-python",
   "name": "python",
   "nbconvert_exporter": "python",
   "pygments_lexer": "ipython3",
   "version": "3.7.9"
  }
 },
 "nbformat": 4,
 "nbformat_minor": 4
}
