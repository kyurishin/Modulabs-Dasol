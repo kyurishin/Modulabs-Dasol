{
 "cells": [
  {
   "cell_type": "markdown",
   "metadata": {},
   "source": [
    "## 2016년 문제 간단하게 풀기"
   ]
  },
  {
   "cell_type": "code",
   "execution_count": 23,
   "metadata": {},
   "outputs": [],
   "source": [
    "def solution(a, b):\n",
    "    answer = ''\n",
    "    date = [\"FRI\", \"SAT\", \"SUN\", \"MON\", \"TUE\", \"WED\", \"THU\"]\n",
    "    month = [31, 29, 31, 30, 31, 30, 31, 31, 30, 31, 30, 31]\n",
    "    total = 0\n",
    "    \n",
    "    for i in range(0, a-1): #인덱스 범위 주의\n",
    "        total += month[i]\n",
    "    answer = date[(total+b)%7 -1] #인덱스 주의\n",
    "    \n",
    "    return answer"
   ]
  },
  {
   "cell_type": "code",
   "execution_count": 24,
   "metadata": {},
   "outputs": [
    {
     "name": "stdout",
     "output_type": "stream",
     "text": [
      "FRI\n",
      "TUE\n",
      "SUN\n",
      "MON\n",
      "TUE\n"
     ]
    }
   ],
   "source": [
    "print(solution(1, 1))\n",
    "print(solution(1, 5))\n",
    "print(solution(2, 28))\n",
    "print(solution(2, 29))\n",
    "print(solution(5, 24))"
   ]
  },
  {
   "cell_type": "markdown",
   "metadata": {},
   "source": [
    "## 2016년 문제를 if, for로 풀기"
   ]
  },
  {
   "cell_type": "code",
   "execution_count": null,
   "metadata": {},
   "outputs": [],
   "source": [
    "def sol(a, b):\n",
    "    answer = ''\n",
    "    month = 0\n",
    "    if a == 1 or 3 or 5 or 7 or 8 or 10 or 12:\n",
    "        month = 31\n",
    "    elif a == 4 or 6 or 9 or 11:\n",
    "        month = 30\n",
    "    elif a = 2:\n",
    "        month = 29\n",
    "    else:\n",
    "        print(\"유효하지 않은 숫자입니다.\")\n",
    "        exit()\n",
    "    \n",
    "    for i in range(1, a+1):\n",
    "        "
   ]
  }
 ],
 "metadata": {
  "kernelspec": {
   "display_name": "Python 3",
   "language": "python",
   "name": "python3"
  },
  "language_info": {
   "codemirror_mode": {
    "name": "ipython",
    "version": 3
   },
   "file_extension": ".py",
   "mimetype": "text/x-python",
   "name": "python",
   "nbconvert_exporter": "python",
   "pygments_lexer": "ipython3",
   "version": "3.7.7"
  }
 },
 "nbformat": 4,
 "nbformat_minor": 4
}
