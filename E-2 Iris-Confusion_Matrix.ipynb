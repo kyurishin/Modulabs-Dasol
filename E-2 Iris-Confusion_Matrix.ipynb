{
 "cells": [
  {
   "cell_type": "code",
   "execution_count": 5,
   "metadata": {},
   "outputs": [
    {
     "name": "stdout",
     "output_type": "stream",
     "text": [
      "   sepal_length  sepal_width  petal_length  petal_width species\n",
      "0           5.1          3.5           1.4          0.2  setosa\n",
      "1           4.9          3.0           1.4          0.2  setosa\n",
      "2           4.7          3.2           1.3          0.2  setosa\n",
      "3           4.6          3.1           1.5          0.2  setosa\n",
      "4           5.0          3.6           1.4          0.2  setosa\n"
     ]
    }
   ],
   "source": [
    "import seaborn as sns\n",
    "iris = sns.load_dataset('iris')\n",
    "print(iris.head())"
   ]
  },
  {
   "cell_type": "code",
   "execution_count": 6,
   "metadata": {},
   "outputs": [
    {
     "name": "stdout",
     "output_type": "stream",
     "text": [
      "(150, 5)\n"
     ]
    }
   ],
   "source": [
    "print(iris.shape)"
   ]
  },
  {
   "cell_type": "code",
   "execution_count": 7,
   "metadata": {},
   "outputs": [
    {
     "name": "stdout",
     "output_type": "stream",
     "text": [
      "   sepal_length  sepal_width  petal_length  petal_width\n",
      "0           5.1          3.5           1.4          0.2\n",
      "1           4.9          3.0           1.4          0.2\n",
      "2           4.7          3.2           1.3          0.2\n",
      "0    setosa\n",
      "1    setosa\n",
      "2    setosa\n",
      "Name: species, dtype: object\n",
      "(150, 4)\n",
      "(150,)\n"
     ]
    }
   ],
   "source": [
    "X = iris.drop('species', axis=1)\n",
    "y = iris['species']\n",
    "print(X.head(3))\n",
    "print(y.head(3))\n",
    "print(X.shape)\n",
    "print(y.shape)"
   ]
  },
  {
   "cell_type": "code",
   "execution_count": 8,
   "metadata": {},
   "outputs": [],
   "source": [
    "from sklearn.preprocessing import LabelEncoder\n",
    "import numpy as np"
   ]
  },
  {
   "cell_type": "code",
   "execution_count": 9,
   "metadata": {},
   "outputs": [
    {
     "name": "stdout",
     "output_type": "stream",
     "text": [
      "labels [0 1 2]\n"
     ]
    }
   ],
   "source": [
    "classle = LabelEncoder()\n",
    "y = classle.fit_transform(iris['species'].values)\n",
    "print('labels', np.unique(y))"
   ]
  },
  {
   "cell_type": "code",
   "execution_count": 10,
   "metadata": {},
   "outputs": [],
   "source": [
    "from sklearn.model_selection import train_test_split"
   ]
  },
  {
   "cell_type": "code",
   "execution_count": 11,
   "metadata": {},
   "outputs": [],
   "source": [
    "X_train, X_test, y_train, y_test = train_test_split(X, y, test_size=0.3, random_state=42, stratify=y)"
   ]
  },
  {
   "cell_type": "code",
   "execution_count": 12,
   "metadata": {},
   "outputs": [],
   "source": [
    "from sklearn.neighbors import KNeighborsClassifier"
   ]
  },
  {
   "cell_type": "code",
   "execution_count": 13,
   "metadata": {},
   "outputs": [
    {
     "data": {
      "text/plain": [
       "KNeighborsClassifier()"
      ]
     },
     "execution_count": 13,
     "metadata": {},
     "output_type": "execute_result"
    }
   ],
   "source": [
    "knn=KNeighborsClassifier(n_neighbors=5, p=2)\n",
    "knn.fit(X_train, y_train)"
   ]
  },
  {
   "cell_type": "code",
   "execution_count": 19,
   "metadata": {},
   "outputs": [
    {
     "name": "stdout",
     "output_type": "stream",
     "text": [
      "잘못 분류된 트레인 데이터 : 3\n",
      "잘못 분류된 테스트 데이터 : 1\n"
     ]
    }
   ],
   "source": [
    "y_train_pred = knn.predict(X_train)\n",
    "y_test_pred = knn.predict(X_test)\n",
    "print('잘못 분류된 트레인 데이터 : %d' %(y_train!=y_train_pred).sum())\n",
    "print('잘못 분류된 테스트 데이터 : %d' %(y_test!=y_test_pred).sum())"
   ]
  },
  {
   "cell_type": "code",
   "execution_count": 20,
   "metadata": {},
   "outputs": [
    {
     "name": "stdout",
     "output_type": "stream",
     "text": [
      "[[15  0  0]\n",
      " [ 0 15  0]\n",
      " [ 0  1 14]]\n"
     ]
    }
   ],
   "source": [
    "conf = confusion_matrix(y_test, y_test_pred)\n",
    "print(conf)"
   ]
  },
  {
   "cell_type": "code",
   "execution_count": 21,
   "metadata": {},
   "outputs": [
    {
     "name": "stdout",
     "output_type": "stream",
     "text": [
      "[[35  0  0]\n",
      " [ 0 33  2]\n",
      " [ 0  1 34]]\n"
     ]
    }
   ],
   "source": [
    "confu = confusion_matrix(y_train, y_train_pred)\n",
    "print(confu)"
   ]
  },
  {
   "cell_type": "code",
   "execution_count": 37,
   "metadata": {},
   "outputs": [
    {
     "name": "stdout",
     "output_type": "stream",
     "text": [
      "0.9777777777777777\n"
     ]
    }
   ],
   "source": [
    "from sklearn.model_selection import cross_validate, KFold\n",
    "from sklearn.metrics import accuracy_score, confusion_matrix, f1_score, precision_score, recall_score\n",
    "print(accuracy_score(y_test, y_test_pred))"
   ]
  },
  {
   "cell_type": "code",
   "execution_count": 38,
   "metadata": {},
   "outputs": [],
   "source": [
    "from sklearn.metrics import make_scorer"
   ]
  },
  {
   "cell_type": "code",
   "execution_count": 39,
   "metadata": {},
   "outputs": [],
   "source": [
    "scoring = {'accuracy' : make_scorer(accuracy_score),\n",
    "           'precision': make_scorer(precision_score),\n",
    "           'recall': make_scorer(recall_score),\n",
    "           'f1_score': make_scorer(f1_score)\n",
    "}"
   ]
  },
  {
   "cell_type": "code",
   "execution_count": 42,
   "metadata": {},
   "outputs": [
    {
     "name": "stderr",
     "output_type": "stream",
     "text": [
      "/home/dasol-ubuntu/anaconda3/envs/tf-gpu/lib/python3.7/site-packages/sklearn/model_selection/_validation.py:552: FitFailedWarning: Estimator fit failed. The score on this train-test partition for these parameters will be set to nan. Details: \n",
      "Traceback (most recent call last):\n",
      "  File \"/home/dasol-ubuntu/anaconda3/envs/tf-gpu/lib/python3.7/site-packages/sklearn/model_selection/_validation.py\", line 531, in _fit_and_score\n",
      "    estimator.fit(X_train, y_train, **fit_params)\n",
      "  File \"/home/dasol-ubuntu/anaconda3/envs/tf-gpu/lib/python3.7/site-packages/sklearn/neighbors/_base.py\", line 1132, in fit\n",
      "    multi_output=True)\n",
      "  File \"/home/dasol-ubuntu/anaconda3/envs/tf-gpu/lib/python3.7/site-packages/sklearn/base.py\", line 432, in _validate_data\n",
      "    X, y = check_X_y(X, y, **check_params)\n",
      "  File \"/home/dasol-ubuntu/anaconda3/envs/tf-gpu/lib/python3.7/site-packages/sklearn/utils/validation.py\", line 72, in inner_f\n",
      "    return f(**kwargs)\n",
      "  File \"/home/dasol-ubuntu/anaconda3/envs/tf-gpu/lib/python3.7/site-packages/sklearn/utils/validation.py\", line 802, in check_X_y\n",
      "    estimator=estimator)\n",
      "  File \"/home/dasol-ubuntu/anaconda3/envs/tf-gpu/lib/python3.7/site-packages/sklearn/utils/validation.py\", line 72, in inner_f\n",
      "    return f(**kwargs)\n",
      "  File \"/home/dasol-ubuntu/anaconda3/envs/tf-gpu/lib/python3.7/site-packages/sklearn/utils/validation.py\", line 623, in check_array\n",
      "    \"if it contains a single sample.\".format(array))\n",
      "ValueError: Expected 2D array, got 1D array instead:\n",
      "array=[2 1 2 2 2 0 2 1 0 0 0 1 0 1 2 2 1 1 1 1 0 2 2 1 0 2 0 0 0 0 1 1 0 2 2 1].\n",
      "Reshape your data either using array.reshape(-1, 1) if your data has a single feature or array.reshape(1, -1) if it contains a single sample.\n",
      "\n",
      "  FitFailedWarning)\n",
      "/home/dasol-ubuntu/anaconda3/envs/tf-gpu/lib/python3.7/site-packages/sklearn/model_selection/_validation.py:552: FitFailedWarning: Estimator fit failed. The score on this train-test partition for these parameters will be set to nan. Details: \n",
      "Traceback (most recent call last):\n",
      "  File \"/home/dasol-ubuntu/anaconda3/envs/tf-gpu/lib/python3.7/site-packages/sklearn/model_selection/_validation.py\", line 531, in _fit_and_score\n",
      "    estimator.fit(X_train, y_train, **fit_params)\n",
      "  File \"/home/dasol-ubuntu/anaconda3/envs/tf-gpu/lib/python3.7/site-packages/sklearn/neighbors/_base.py\", line 1132, in fit\n",
      "    multi_output=True)\n",
      "  File \"/home/dasol-ubuntu/anaconda3/envs/tf-gpu/lib/python3.7/site-packages/sklearn/base.py\", line 432, in _validate_data\n",
      "    X, y = check_X_y(X, y, **check_params)\n",
      "  File \"/home/dasol-ubuntu/anaconda3/envs/tf-gpu/lib/python3.7/site-packages/sklearn/utils/validation.py\", line 72, in inner_f\n",
      "    return f(**kwargs)\n",
      "  File \"/home/dasol-ubuntu/anaconda3/envs/tf-gpu/lib/python3.7/site-packages/sklearn/utils/validation.py\", line 802, in check_X_y\n",
      "    estimator=estimator)\n",
      "  File \"/home/dasol-ubuntu/anaconda3/envs/tf-gpu/lib/python3.7/site-packages/sklearn/utils/validation.py\", line 72, in inner_f\n",
      "    return f(**kwargs)\n",
      "  File \"/home/dasol-ubuntu/anaconda3/envs/tf-gpu/lib/python3.7/site-packages/sklearn/utils/validation.py\", line 623, in check_array\n",
      "    \"if it contains a single sample.\".format(array))\n",
      "ValueError: Expected 2D array, got 1D array instead:\n",
      "array=[2 1 2 1 2 1 0 0 0 2 2 0 0 1 2 2 1 1 1 1 0 2 2 1 0 2 0 0 0 0 1 1 0 2 2 1].\n",
      "Reshape your data either using array.reshape(-1, 1) if your data has a single feature or array.reshape(1, -1) if it contains a single sample.\n",
      "\n",
      "  FitFailedWarning)\n",
      "/home/dasol-ubuntu/anaconda3/envs/tf-gpu/lib/python3.7/site-packages/sklearn/model_selection/_validation.py:552: FitFailedWarning: Estimator fit failed. The score on this train-test partition for these parameters will be set to nan. Details: \n",
      "Traceback (most recent call last):\n",
      "  File \"/home/dasol-ubuntu/anaconda3/envs/tf-gpu/lib/python3.7/site-packages/sklearn/model_selection/_validation.py\", line 531, in _fit_and_score\n",
      "    estimator.fit(X_train, y_train, **fit_params)\n",
      "  File \"/home/dasol-ubuntu/anaconda3/envs/tf-gpu/lib/python3.7/site-packages/sklearn/neighbors/_base.py\", line 1132, in fit\n",
      "    multi_output=True)\n",
      "  File \"/home/dasol-ubuntu/anaconda3/envs/tf-gpu/lib/python3.7/site-packages/sklearn/base.py\", line 432, in _validate_data\n",
      "    X, y = check_X_y(X, y, **check_params)\n",
      "  File \"/home/dasol-ubuntu/anaconda3/envs/tf-gpu/lib/python3.7/site-packages/sklearn/utils/validation.py\", line 72, in inner_f\n",
      "    return f(**kwargs)\n",
      "  File \"/home/dasol-ubuntu/anaconda3/envs/tf-gpu/lib/python3.7/site-packages/sklearn/utils/validation.py\", line 802, in check_X_y\n",
      "    estimator=estimator)\n",
      "  File \"/home/dasol-ubuntu/anaconda3/envs/tf-gpu/lib/python3.7/site-packages/sklearn/utils/validation.py\", line 72, in inner_f\n",
      "    return f(**kwargs)\n",
      "  File \"/home/dasol-ubuntu/anaconda3/envs/tf-gpu/lib/python3.7/site-packages/sklearn/utils/validation.py\", line 623, in check_array\n",
      "    \"if it contains a single sample.\".format(array))\n",
      "ValueError: Expected 2D array, got 1D array instead:\n",
      "array=[2 1 2 1 2 2 1 1 0 2 0 0 2 0 1 0 0 1 2 1 1 2 2 1 0 2 0 0 0 0 1 1 0 2 2 1].\n",
      "Reshape your data either using array.reshape(-1, 1) if your data has a single feature or array.reshape(1, -1) if it contains a single sample.\n",
      "\n",
      "  FitFailedWarning)\n",
      "/home/dasol-ubuntu/anaconda3/envs/tf-gpu/lib/python3.7/site-packages/sklearn/model_selection/_validation.py:552: FitFailedWarning: Estimator fit failed. The score on this train-test partition for these parameters will be set to nan. Details: \n",
      "Traceback (most recent call last):\n",
      "  File \"/home/dasol-ubuntu/anaconda3/envs/tf-gpu/lib/python3.7/site-packages/sklearn/model_selection/_validation.py\", line 531, in _fit_and_score\n",
      "    estimator.fit(X_train, y_train, **fit_params)\n",
      "  File \"/home/dasol-ubuntu/anaconda3/envs/tf-gpu/lib/python3.7/site-packages/sklearn/neighbors/_base.py\", line 1132, in fit\n",
      "    multi_output=True)\n",
      "  File \"/home/dasol-ubuntu/anaconda3/envs/tf-gpu/lib/python3.7/site-packages/sklearn/base.py\", line 432, in _validate_data\n",
      "    X, y = check_X_y(X, y, **check_params)\n",
      "  File \"/home/dasol-ubuntu/anaconda3/envs/tf-gpu/lib/python3.7/site-packages/sklearn/utils/validation.py\", line 72, in inner_f\n",
      "    return f(**kwargs)\n",
      "  File \"/home/dasol-ubuntu/anaconda3/envs/tf-gpu/lib/python3.7/site-packages/sklearn/utils/validation.py\", line 802, in check_X_y\n",
      "    estimator=estimator)\n",
      "  File \"/home/dasol-ubuntu/anaconda3/envs/tf-gpu/lib/python3.7/site-packages/sklearn/utils/validation.py\", line 72, in inner_f\n",
      "    return f(**kwargs)\n",
      "  File \"/home/dasol-ubuntu/anaconda3/envs/tf-gpu/lib/python3.7/site-packages/sklearn/utils/validation.py\", line 623, in check_array\n",
      "    \"if it contains a single sample.\".format(array))\n",
      "ValueError: Expected 2D array, got 1D array instead:\n",
      "array=[2 1 2 1 2 2 1 1 0 2 0 0 2 2 0 2 1 0 0 0 1 0 1 2 1 1 0 2 0 0 1 1 0 2 2 1].\n",
      "Reshape your data either using array.reshape(-1, 1) if your data has a single feature or array.reshape(1, -1) if it contains a single sample.\n",
      "\n",
      "  FitFailedWarning)\n",
      "/home/dasol-ubuntu/anaconda3/envs/tf-gpu/lib/python3.7/site-packages/sklearn/model_selection/_validation.py:552: FitFailedWarning: Estimator fit failed. The score on this train-test partition for these parameters will be set to nan. Details: \n",
      "Traceback (most recent call last):\n",
      "  File \"/home/dasol-ubuntu/anaconda3/envs/tf-gpu/lib/python3.7/site-packages/sklearn/model_selection/_validation.py\", line 531, in _fit_and_score\n",
      "    estimator.fit(X_train, y_train, **fit_params)\n",
      "  File \"/home/dasol-ubuntu/anaconda3/envs/tf-gpu/lib/python3.7/site-packages/sklearn/neighbors/_base.py\", line 1132, in fit\n",
      "    multi_output=True)\n",
      "  File \"/home/dasol-ubuntu/anaconda3/envs/tf-gpu/lib/python3.7/site-packages/sklearn/base.py\", line 432, in _validate_data\n",
      "    X, y = check_X_y(X, y, **check_params)\n",
      "  File \"/home/dasol-ubuntu/anaconda3/envs/tf-gpu/lib/python3.7/site-packages/sklearn/utils/validation.py\", line 72, in inner_f\n",
      "    return f(**kwargs)\n",
      "  File \"/home/dasol-ubuntu/anaconda3/envs/tf-gpu/lib/python3.7/site-packages/sklearn/utils/validation.py\", line 802, in check_X_y\n",
      "    estimator=estimator)\n",
      "  File \"/home/dasol-ubuntu/anaconda3/envs/tf-gpu/lib/python3.7/site-packages/sklearn/utils/validation.py\", line 72, in inner_f\n",
      "    return f(**kwargs)\n",
      "  File \"/home/dasol-ubuntu/anaconda3/envs/tf-gpu/lib/python3.7/site-packages/sklearn/utils/validation.py\", line 623, in check_array\n",
      "    \"if it contains a single sample.\".format(array))\n",
      "ValueError: Expected 2D array, got 1D array instead:\n",
      "array=[2 1 2 1 2 2 1 1 0 2 0 0 2 2 0 2 1 0 0 0 1 0 1 2 2 1 1 1 1 0 2 2 1 0 0 0].\n",
      "Reshape your data either using array.reshape(-1, 1) if your data has a single feature or array.reshape(1, -1) if it contains a single sample.\n",
      "\n",
      "  FitFailedWarning)\n"
     ]
    }
   ],
   "source": [
    "res = cross_validate(knn, y_test, y_test_pred, scoring=scoring)"
   ]
  },
  {
   "cell_type": "code",
   "execution_count": 45,
   "metadata": {},
   "outputs": [
    {
     "name": "stdout",
     "output_type": "stream",
     "text": [
      "[nan nan nan nan nan]\n"
     ]
    }
   ],
   "source": [
    "print(res[\"test_accuracy\"])"
   ]
  },
  {
   "cell_type": "code",
   "execution_count": null,
   "metadata": {},
   "outputs": [],
   "source": []
  }
 ],
 "metadata": {
  "kernelspec": {
   "display_name": "Python 3",
   "language": "python",
   "name": "python3"
  },
  "language_info": {
   "codemirror_mode": {
    "name": "ipython",
    "version": 3
   },
   "file_extension": ".py",
   "mimetype": "text/x-python",
   "name": "python",
   "nbconvert_exporter": "python",
   "pygments_lexer": "ipython3",
   "version": "3.7.9"
  }
 },
 "nbformat": 4,
 "nbformat_minor": 4
}
